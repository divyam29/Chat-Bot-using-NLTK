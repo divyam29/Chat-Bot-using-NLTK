{
  "nbformat": 4,
  "nbformat_minor": 0,
  "metadata": {
    "colab": {
      "provenance": []
    },
    "kernelspec": {
      "name": "python3",
      "display_name": "Python 3"
    },
    "language_info": {
      "name": "python"
    }
  },
  "cells": [
    {
      "cell_type": "code",
      "execution_count": 63,
      "metadata": {
        "colab": {
          "base_uri": "https://localhost:8080/",
          "height": 17
        },
        "id": "Ile7fQsoiTLf",
        "outputId": "ce9af173-f4e6-4ab9-d5f7-31bba1e08173"
      },
      "outputs": [
        {
          "output_type": "display_data",
          "data": {
            "text/plain": [
              "<IPython.core.display.HTML object>"
            ],
            "text/html": [
              "\n",
              "  <style>\n",
              "    pre {\n",
              "        white-space: pre-wrap;\n",
              "    }\n",
              "  </style>\n",
              "  "
            ]
          },
          "metadata": {}
        }
      ],
      "source": [
        "import numpy as np\n",
        "import nltk\n",
        "import string\n",
        "import random"
      ]
    },
    {
      "cell_type": "markdown",
      "source": [
        "Loading the text corpus\n"
      ],
      "metadata": {
        "id": "wCUVCQTQ7uPh"
      }
    },
    {
      "cell_type": "code",
      "source": [
        "f = open('/content/data.txt','r',errors='ignore')\n",
        "raw_doc=f.read()"
      ],
      "metadata": {
        "colab": {
          "base_uri": "https://localhost:8080/",
          "height": 17
        },
        "id": "ugpUHiXJi146",
        "outputId": "e21cd965-8c64-484e-ca8a-39a943849394"
      },
      "execution_count": 64,
      "outputs": [
        {
          "output_type": "display_data",
          "data": {
            "text/plain": [
              "<IPython.core.display.HTML object>"
            ],
            "text/html": [
              "\n",
              "  <style>\n",
              "    pre {\n",
              "        white-space: pre-wrap;\n",
              "    }\n",
              "  </style>\n",
              "  "
            ]
          },
          "metadata": {}
        }
      ]
    },
    {
      "cell_type": "markdown",
      "source": [
        "punkt, wordnet, and omw-1.4 are nltk libraries used for tokenizing, stemming and lematization of the text corpus\n"
      ],
      "metadata": {
        "id": "XmwGo6JH7_Cg"
      }
    },
    {
      "cell_type": "code",
      "source": [
        "raw_doc=raw_doc.lower()\n",
        "nltk.download('punkt')\n",
        "nltk.download('wordnet')\n",
        "nltk.download('omw-1.4')"
      ],
      "metadata": {
        "colab": {
          "base_uri": "https://localhost:8080/",
          "height": 138
        },
        "id": "WA09UAL2jwk6",
        "outputId": "973055fa-90dd-4e46-de01-4bfa63ee999a"
      },
      "execution_count": 65,
      "outputs": [
        {
          "output_type": "display_data",
          "data": {
            "text/plain": [
              "<IPython.core.display.HTML object>"
            ],
            "text/html": [
              "\n",
              "  <style>\n",
              "    pre {\n",
              "        white-space: pre-wrap;\n",
              "    }\n",
              "  </style>\n",
              "  "
            ]
          },
          "metadata": {}
        },
        {
          "output_type": "stream",
          "name": "stderr",
          "text": [
            "[nltk_data] Downloading package punkt to /root/nltk_data...\n",
            "[nltk_data]   Package punkt is already up-to-date!\n",
            "[nltk_data] Downloading package wordnet to /root/nltk_data...\n",
            "[nltk_data]   Package wordnet is already up-to-date!\n",
            "[nltk_data] Downloading package omw-1.4 to /root/nltk_data...\n",
            "[nltk_data]   Package omw-1.4 is already up-to-date!\n"
          ]
        },
        {
          "output_type": "execute_result",
          "data": {
            "text/plain": [
              "True"
            ]
          },
          "metadata": {},
          "execution_count": 65
        }
      ]
    },
    {
      "cell_type": "markdown",
      "source": [
        "Here preprocessing of text starts.\n",
        "\n",
        "first we create sentence tokens and word tokens.\n",
        "\n",
        "ie Tokenization done "
      ],
      "metadata": {
        "id": "N06Y_C448Ozy"
      }
    },
    {
      "cell_type": "code",
      "source": [
        "sentence_tokens = nltk.sent_tokenize(raw_doc)\n",
        "word_tokens = nltk.word_tokenize(raw_doc)"
      ],
      "metadata": {
        "colab": {
          "base_uri": "https://localhost:8080/",
          "height": 17
        },
        "id": "hGCUU0c3kBpt",
        "outputId": "907d10cb-2d69-4017-a933-68c8bf52aca0"
      },
      "execution_count": 66,
      "outputs": [
        {
          "output_type": "display_data",
          "data": {
            "text/plain": [
              "<IPython.core.display.HTML object>"
            ],
            "text/html": [
              "\n",
              "  <style>\n",
              "    pre {\n",
              "        white-space: pre-wrap;\n",
              "    }\n",
              "  </style>\n",
              "  "
            ]
          },
          "metadata": {}
        }
      ]
    },
    {
      "cell_type": "markdown",
      "source": [
        "Now using nltk library lematization is done.\n",
        "\n",
        "Then all the punctuations are removed.\n"
      ],
      "metadata": {
        "id": "5VlkPVa28qqX"
      }
    },
    {
      "cell_type": "code",
      "source": [
        "lemmer = nltk.stem.WordNetLemmatizer()\n",
        "\n",
        "def LemTokens(tokens):\n",
        "  return [lemmer.lemmatize(token) for token in tokens]\n",
        "\n",
        "remove_punc_dict = dict((ord(punct),None) for punct in string.punctuation)\n",
        "\n",
        "def LemNormalize(text):\n",
        "  return LemTokens(nltk.word_tokenize(text.lower().translate(remove_punc_dict)))"
      ],
      "metadata": {
        "colab": {
          "base_uri": "https://localhost:8080/",
          "height": 17
        },
        "id": "xmtc0fPykVPB",
        "outputId": "e0e2119c-337e-484f-f89e-b5eef12040be"
      },
      "execution_count": 67,
      "outputs": [
        {
          "output_type": "display_data",
          "data": {
            "text/plain": [
              "<IPython.core.display.HTML object>"
            ],
            "text/html": [
              "\n",
              "  <style>\n",
              "    pre {\n",
              "        white-space: pre-wrap;\n",
              "    }\n",
              "  </style>\n",
              "  "
            ]
          },
          "metadata": {}
        }
      ]
    },
    {
      "cell_type": "code",
      "source": [
        "#greet_inputs = (\"Hi there!\", \"Hello!\", \"Hey!\", \"Good morning!\", \"Good afternoon!\", \"Good evening!\", \"How are you doing?\", \"What's up?\", \"Greetings!\", \"Salutations!\", \"Hi, how can I assist you today?\", \"Yo!\", \"Hiya!\", \"Hey, how's it going?\", \"Nice to meet you!\", \"Hi, is there anything I can help you with?\", \"Hey, long time no see!\", \"Hi, what brings you here?\", \"Hello, how's your day going?\", \"Hi, how may I be of service?\", \"G'day mate!\", \"Hi, nice to have you here!\", \"Well, hello there!\", \"Hey, what's happening?\", \"Hi, how's life treating you?\", \"Hello, ready for a chat?\", \"Hey, how's the weather today?\", \"Hi, how can I make your day better?\", \"Good to see you!\", \"Hi, what's on your mind?\", \"Hey, how can I assist you today?\", \"Hello, what can I do for you?\", \"Hi, how's everything going?\", \"Hey, anything I can help you with?\", \"Hello, how may I be of assistance?\", \"Hi, how's your day been so far?\", \"Hey, how's life treating you?\", \"Greetings, ready for a conversation?\", \"Hi, how can I make your day brighter?\", \"Hello, nice to see you here!\", \"Hey, how's your week going?\", \"Hi, how can I be of help to you?\", \"Good to have you here!\", \"Hello, what brings you to this chat?\", \"Hey, anything exciting happening?\", \"Hi, how's the world treating you?\", \"Hello, what can I do to assist you?\", \"Hi, how are you today?\", \"Hey, how's your day shaping up?\", \"Greetings, how may I assist you today?\")\n",
        "greet_inputs=('hi', 'hey', 'yo', 'sup', 'howdy', 'wassup', 'oi')"
      ],
      "metadata": {
        "colab": {
          "base_uri": "https://localhost:8080/",
          "height": 17
        },
        "id": "FuCTp-rSk5Jp",
        "outputId": "c1c1f791-20a0-459e-c285-cfb1dee58182"
      },
      "execution_count": 68,
      "outputs": [
        {
          "output_type": "display_data",
          "data": {
            "text/plain": [
              "<IPython.core.display.HTML object>"
            ],
            "text/html": [
              "\n",
              "  <style>\n",
              "    pre {\n",
              "        white-space: pre-wrap;\n",
              "    }\n",
              "  </style>\n",
              "  "
            ]
          },
          "metadata": {}
        }
      ]
    },
    {
      "cell_type": "code",
      "source": [
        "greet_responses = (\"Hi, how can I help you today?\", \"Hello, how can I assist you?\", \"Hey there, what can I do for you?\", \"Good morning! How may I assist you?\", \"Good afternoon! How can I help you?\", \"Good evening! How may I assist you today?\", \"I'm doing great, thank you! How about you?\", \"Not much, just here to assist you. How can I help?\", \"I'm here to help. What's on your mind?\", \"Sure, I'm here to assist you. How can I help?\", \"Hello! How may I be of service to you?\", \"Hey! I'm here to help. What do you need assistance with?\", \"Hi there! How can I assist you today?\", \"Hello! How can I make your day better?\", \"Hey! How can I assist you today?\", \"Hi! How may I be of help to you?\", \"Hello! How can I make your experience better?\", \"Hey there! What can I do for you?\", \"Hi! How can I assist you today?\", \"Hello! How may I be of service to you?\", \"Hey! What can I help you with?\", \"Hi! How can I make your day better?\", \"Hello! How can I assist you today?\", \"Hey there! How may I be of help to you?\", \"Hi! What brings you here?\", \"Hello! How can I make your experience better?\", \"Hey! How can I assist you today?\", \"Hi! How may I be of service to you?\", \"Hello! What can I do for you?\", \"Hey! How can I help you today?\", \"Hi! How can I make your day better?\", \"Hello! How can I assist you today?\", \"Hey there! How may I be of help to you?\", \"Hi! What brings you here?\", \"Hello! How can I make your experience better?\", \"Hey! How can I assist you today?\", \"Hi! How may I be of service to you?\", \"Hello! What can I do for you?\", \"Hey! How can I help you today?\", \"Hi! How can I make your day better?\", \"Hello! How can I assist you today?\", \"Hey there! How may I be of help to you?\", \"Hi! What brings you here?\", \"Hello! How can I make your experience better?\", \"Hey! How can I assist you today?\", \"Hi! How may I be of service to you?\", \"Hello! What can I do for you?\", \"Hey! How can I help you today?\", \"Hi! How can I make your day better?\", \"Hello! How can I assist you today?\", \"Hey there! How may I be of help to you?\")"
      ],
      "metadata": {
        "colab": {
          "base_uri": "https://localhost:8080/",
          "height": 17
        },
        "id": "4JEmbo0alxGB",
        "outputId": "983148a1-1847-465a-ce42-e5b62637ee78"
      },
      "execution_count": 69,
      "outputs": [
        {
          "output_type": "display_data",
          "data": {
            "text/plain": [
              "<IPython.core.display.HTML object>"
            ],
            "text/html": [
              "\n",
              "  <style>\n",
              "    pre {\n",
              "        white-space: pre-wrap;\n",
              "    }\n",
              "  </style>\n",
              "  "
            ]
          },
          "metadata": {}
        }
      ]
    },
    {
      "cell_type": "code",
      "source": [
        "def greet(sentence):\n",
        "  for word in sentence.split():\n",
        "    if word.lower() in greet_inputs: \n",
        "      return random.choice(greet_responses)"
      ],
      "metadata": {
        "colab": {
          "base_uri": "https://localhost:8080/",
          "height": 17
        },
        "id": "ZzJKfy-CmSKQ",
        "outputId": "d2409895-51f0-44f6-ff45-b198df4b514c"
      },
      "execution_count": 70,
      "outputs": [
        {
          "output_type": "display_data",
          "data": {
            "text/plain": [
              "<IPython.core.display.HTML object>"
            ],
            "text/html": [
              "\n",
              "  <style>\n",
              "    pre {\n",
              "        white-space: pre-wrap;\n",
              "    }\n",
              "  </style>\n",
              "  "
            ]
          },
          "metadata": {}
        }
      ]
    },
    {
      "cell_type": "code",
      "source": [
        "from sklearn.feature_extraction.text import TfidfVectorizer\n",
        "from sklearn.metrics.pairwise import cosine_similarity"
      ],
      "metadata": {
        "colab": {
          "base_uri": "https://localhost:8080/",
          "height": 17
        },
        "id": "gFqVy12gmnre",
        "outputId": "d0743ba2-238a-4670-a658-8d3da7bf936e"
      },
      "execution_count": 71,
      "outputs": [
        {
          "output_type": "display_data",
          "data": {
            "text/plain": [
              "<IPython.core.display.HTML object>"
            ],
            "text/html": [
              "\n",
              "  <style>\n",
              "    pre {\n",
              "        white-space: pre-wrap;\n",
              "    }\n",
              "  </style>\n",
              "  "
            ]
          },
          "metadata": {}
        }
      ]
    },
    {
      "cell_type": "code",
      "source": [
        "def response(user_response):\n",
        "  robo1_response = \"\"\n",
        "  TfidVec = TfidfVectorizer(tokenizer = LemNormalize, stop_words = 'english')\n",
        "  tfidf = TfidVec.fit_transform(sentence_tokens)\n",
        "  vals = cosine_similarity(tfidf[-1], tfidf)\n",
        "  idx = vals.argsort()[0][-2]\n",
        "  flat = vals.flatten()\n",
        "  flat.sort()\n",
        "  req_tfidf = flat[-2]\n",
        "  \n",
        "  if(req_tfidf == 0):\n",
        "    robo1_response = robo1_response + \"I am sorry. Unable to understand you!\"\n",
        "    return robo1_response\n",
        "    \n",
        "  else:\n",
        "    robo1_response = robo1_response + sentence_tokens[idx]\n",
        "    return robo1_response\n"
      ],
      "metadata": {
        "colab": {
          "base_uri": "https://localhost:8080/",
          "height": 17
        },
        "id": "Ou2ilHnxm3Aq",
        "outputId": "699ca8a6-6b5e-4536-9442-c6a95d6b6ae1"
      },
      "execution_count": 72,
      "outputs": [
        {
          "output_type": "display_data",
          "data": {
            "text/plain": [
              "<IPython.core.display.HTML object>"
            ],
            "text/html": [
              "\n",
              "  <style>\n",
              "    pre {\n",
              "        white-space: pre-wrap;\n",
              "    }\n",
              "  </style>\n",
              "  "
            ]
          },
          "metadata": {}
        }
      ]
    },
    {
      "cell_type": "code",
      "source": [
        "flag = True\n",
        "print(\"Bot: Welcome to the chatbot! I'm here to assist you with any questions or tasks you have. How can I help you today?\")\n",
        "\n",
        "while(flag == True):\n",
        "  user_response = input()\n",
        "  user_response = user_response.lower()\n",
        "  \n",
        "  if(user_response != 'bye'):\n",
        "    if(user_response == \"thank you!\" or user_response == \"thanks a lot!\" or user_response == \"thank you so much!\" or user_response == \"appreciate it!\" or user_response == \"thanks!\" or user_response == \"thank you for your help!\" or user_response == \"thank you very much!\" or user_response == \"thanks for your assistance!\" or user_response == \"thanks for being here!\" or user_response == \"thank you, you're amazing!\"):\n",
        "      flag=False\n",
        "      print(\"Bot: You are welcome...\")\n",
        "\n",
        "    else:\n",
        "      if(greet(user_response) != None):\n",
        "        print(\"Bot: \" + greet(user_response))\n",
        "\n",
        "      else:\n",
        "        sentence_tokens.append(user_response)\n",
        "        # word_tokens = word_tokens + nltk.word_tokenize(user_response)\n",
        "        # final_words = list(set(word_tokens))\n",
        "        print(\"Bot: \", end = '')\n",
        "        print(response(user_response))\n",
        "        sentence_tokens.remove(user_response)\n",
        "  else: \n",
        "    flag = False\n",
        "    print(\"Bot: Goodbye!\")"
      ],
      "metadata": {
        "id": "zIxQzpC2oA1G"
      },
      "execution_count": null,
      "outputs": []
    }
  ]
}